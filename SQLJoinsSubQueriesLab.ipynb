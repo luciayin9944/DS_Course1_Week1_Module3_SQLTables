{
  "cells": [
    {
      "cell_type": "markdown",
      "metadata": {
        "id": "VeLyr3QqBquN"
      },
      "source": [
        "## Introduction\n",
        "\n",
        "In this lab assessment, you'll practice your knowledge of JOIN statements and subqueries, using various types of joins and various methods for specifying the links between them. One of the main benefits of using a relational database is the table relations that define them which allow you to access and connect data together via shared columns. By writing more advanced SQL queries that utilize joins and subqueries you can provide a deeper and more granular level of analysis and data retrieval.\n",
        "\n",
        "This assessment will continue looking at the familiar Northwind database that contains customer relationship management (CRM) data as well as employee and product data. You will take a deeper dive into this database in order to accomplish more advanced SQL queries that require you to access data from multiple tables at once. \n",
        "\n",
        "Imagine that you are working in an analyst role for the sales rep team. They have collaborated with the customer relations and the product teams to take a comprehensive look at the employee to customer pipeline in an attempt to find areas of improvement and potential growth. You have been asked to provide some specific data and statistics regarding this project."
      ]
    },
    {
      "cell_type": "markdown",
      "metadata": {
        "id": "8jkbDVuOB5AH"
      },
      "source": [
        "## Learning Objectives\n",
        "\n",
        "You will be able to:\n",
        "\n",
        "* Write SQL queries that make use of various types of joins\n",
        "* Choose and perform whichever type of join is best for retrieving desired data\n",
        "* Write subqueries to decompose complex queries"
      ]
    },
    {
      "cell_type": "markdown",
      "metadata": {
        "id": "c0hBOncDCN6Y"
      },
      "source": [
        "## Database\n",
        "\n",
        "The database will be the customer relationship management (CRM) database, which has the following ERD.\n",
        "\n",
        "![Database-Schema.png](ERD.png)\n",
        "\n",
        "### Connect to the database\n",
        "\n",
        "In the cell below we have provided the code to import both pandas and sqlite3 as well as define and create the connection to the database you will use. Also displayed is the schema and table names from the database. Use this information in conjunction with the ERD image above to assist in creating your SQL Queries.\n",
        "\n",
        "Major Hint: Look for the shared columns across tables you need to 'join' together."
      ]
    },
    {
      "cell_type": "code",
      "execution_count": 1,
      "metadata": {
        "colab": {
          "base_uri": "https://localhost:8080/",
          "height": 771
        },
        "id": "oWsp6tECDSTB",
        "outputId": "9193fd49-c951-4056-8c0e-b4f9867fbc81"
      },
      "outputs": [
        {
          "data": {
            "text/html": [
              "<div>\n",
              "<style scoped>\n",
              "    .dataframe tbody tr th:only-of-type {\n",
              "        vertical-align: middle;\n",
              "    }\n",
              "\n",
              "    .dataframe tbody tr th {\n",
              "        vertical-align: top;\n",
              "    }\n",
              "\n",
              "    .dataframe thead th {\n",
              "        text-align: right;\n",
              "    }\n",
              "</style>\n",
              "<table border=\"1\" class=\"dataframe\">\n",
              "  <thead>\n",
              "    <tr style=\"text-align: right;\">\n",
              "      <th></th>\n",
              "      <th>type</th>\n",
              "      <th>name</th>\n",
              "      <th>tbl_name</th>\n",
              "      <th>rootpage</th>\n",
              "      <th>sql</th>\n",
              "    </tr>\n",
              "  </thead>\n",
              "  <tbody>\n",
              "    <tr>\n",
              "      <th>0</th>\n",
              "      <td>table</td>\n",
              "      <td>orderdetails</td>\n",
              "      <td>orderdetails</td>\n",
              "      <td>2</td>\n",
              "      <td>CREATE TABLE `orderdetails` (`orderNumber`, `p...</td>\n",
              "    </tr>\n",
              "    <tr>\n",
              "      <th>1</th>\n",
              "      <td>table</td>\n",
              "      <td>payments</td>\n",
              "      <td>payments</td>\n",
              "      <td>28</td>\n",
              "      <td>CREATE TABLE `payments` (`customerNumber`, `ch...</td>\n",
              "    </tr>\n",
              "    <tr>\n",
              "      <th>2</th>\n",
              "      <td>table</td>\n",
              "      <td>offices</td>\n",
              "      <td>offices</td>\n",
              "      <td>32</td>\n",
              "      <td>CREATE TABLE `offices` (`officeCode`, `city`, ...</td>\n",
              "    </tr>\n",
              "    <tr>\n",
              "      <th>3</th>\n",
              "      <td>table</td>\n",
              "      <td>customers</td>\n",
              "      <td>customers</td>\n",
              "      <td>33</td>\n",
              "      <td>CREATE TABLE `customers` (`customerNumber`, `c...</td>\n",
              "    </tr>\n",
              "    <tr>\n",
              "      <th>4</th>\n",
              "      <td>table</td>\n",
              "      <td>orders</td>\n",
              "      <td>orders</td>\n",
              "      <td>38</td>\n",
              "      <td>CREATE TABLE `orders` (`orderNumber`, `orderDa...</td>\n",
              "    </tr>\n",
              "    <tr>\n",
              "      <th>5</th>\n",
              "      <td>table</td>\n",
              "      <td>productlines</td>\n",
              "      <td>productlines</td>\n",
              "      <td>46</td>\n",
              "      <td>CREATE TABLE `productlines` (`productLine`, `t...</td>\n",
              "    </tr>\n",
              "    <tr>\n",
              "      <th>6</th>\n",
              "      <td>table</td>\n",
              "      <td>products</td>\n",
              "      <td>products</td>\n",
              "      <td>47</td>\n",
              "      <td>CREATE TABLE `products` (`productCode`, `produ...</td>\n",
              "    </tr>\n",
              "    <tr>\n",
              "      <th>7</th>\n",
              "      <td>table</td>\n",
              "      <td>employees</td>\n",
              "      <td>employees</td>\n",
              "      <td>56</td>\n",
              "      <td>CREATE TABLE `employees` (`employeeNumber`, `l...</td>\n",
              "    </tr>\n",
              "  </tbody>\n",
              "</table>\n",
              "</div>"
            ],
            "text/plain": [
              "    type          name      tbl_name  rootpage  \\\n",
              "0  table  orderdetails  orderdetails         2   \n",
              "1  table      payments      payments        28   \n",
              "2  table       offices       offices        32   \n",
              "3  table     customers     customers        33   \n",
              "4  table        orders        orders        38   \n",
              "5  table  productlines  productlines        46   \n",
              "6  table      products      products        47   \n",
              "7  table     employees     employees        56   \n",
              "\n",
              "                                                 sql  \n",
              "0  CREATE TABLE `orderdetails` (`orderNumber`, `p...  \n",
              "1  CREATE TABLE `payments` (`customerNumber`, `ch...  \n",
              "2  CREATE TABLE `offices` (`officeCode`, `city`, ...  \n",
              "3  CREATE TABLE `customers` (`customerNumber`, `c...  \n",
              "4  CREATE TABLE `orders` (`orderNumber`, `orderDa...  \n",
              "5  CREATE TABLE `productlines` (`productLine`, `t...  \n",
              "6  CREATE TABLE `products` (`productCode`, `produ...  \n",
              "7  CREATE TABLE `employees` (`employeeNumber`, `l...  "
            ]
          },
          "execution_count": 1,
          "metadata": {},
          "output_type": "execute_result"
        }
      ],
      "source": [
        "# CodeGrade step0\n",
        "# Run this cell without changes\n",
        "\n",
        "# SQL Library and Pandas Library\n",
        "import sqlite3\n",
        "import pandas as pd\n",
        "\n",
        "# Connect to the database\n",
        "conn = sqlite3.connect('data.sqlite')\n",
        "\n",
        "pd.read_sql(\"\"\"SELECT * FROM sqlite_master\"\"\", conn)\n",
        "\n",
        "# employees = pd.read_sql(\"\"\"SELECT * FROM employees\"\"\", conn)\n",
        "# print(employees)\n",
        "# offices = pd.read_sql(\"\"\"SELECT * FROM offices\"\"\", conn)\n",
        "# print(offices)\n"
      ]
    },
    {
      "cell_type": "markdown",
      "metadata": {},
      "source": [
        "## Part 1: Join and Filter"
      ]
    },
    {
      "cell_type": "markdown",
      "metadata": {
        "id": "RgXBvTg5Dj4g"
      },
      "source": [
        "### Step 1\n",
        "\n",
        "The company would like to let Boston employees go remote but need to know more information about who is working in that office. Return the first and last names and the job titles for all employees in Boston."
      ]
    },
    {
      "cell_type": "code",
      "execution_count": 2,
      "metadata": {},
      "outputs": [
        {
          "name": "stdout",
          "output_type": "stream",
          "text": [
            "  firstName   lastName\n",
            "0     Julie   Firrelli\n",
            "1     Steve  Patterson\n"
          ]
        }
      ],
      "source": [
        "# CodeGrade step1\n",
        "# Replace None with your code\n",
        "\n",
        "df_boston = pd.read_sql(\"\"\"\n",
        "SELECT firstName, lastName FROM employees\n",
        "JOIN offices\n",
        "    USING(officeCode)\n",
        "WHERE city = \"Boston\"\n",
        "\"\"\", conn)\n",
        "\n",
        "print(df_boston)"
      ]
    },
    {
      "cell_type": "markdown",
      "metadata": {
        "id": "HFg4zZz3DwsT"
      },
      "source": [
        "### Step 2\n",
        "\n",
        "Recent downsizing and employee attrition have caused some mixups in office tracking and the company is worried they are supporting a 'ghost' location. Are there any offices that have zero employees?"
      ]
    },
    {
      "cell_type": "code",
      "execution_count": 3,
      "metadata": {},
      "outputs": [
        {
          "name": "stdout",
          "output_type": "stream",
          "text": [
            "Empty DataFrame\n",
            "Columns: [officeCode, city, num_employees]\n",
            "Index: []\n"
          ]
        }
      ],
      "source": [
        "# CodeGrade step2\n",
        "# Replace None with your code\n",
        "\n",
        "df_zero_emp = pd.read_sql(\"\"\"\n",
        "SELECT o.officeCode, o.city,\n",
        "       COUNT(e.employeeNumber) AS num_employees                         \n",
        "FROM offices AS o\n",
        "LEFT JOIN employees AS e\n",
        "    ON o.officeCode = e.officeCode\n",
        "GROUP BY o.officeCode, o.city\n",
        "HAVING num_employees = 0;\n",
        "\"\"\", conn)\n",
        "print(df_zero_emp)"
      ]
    },
    {
      "cell_type": "markdown",
      "metadata": {},
      "source": [
        "## Part 2: Type of Join"
      ]
    },
    {
      "cell_type": "markdown",
      "metadata": {
        "id": "WjQpZqZ4ERx7"
      },
      "source": [
        "### Step 3\n",
        "\n",
        "As a part of this larger analysis project the HR department is taking the time to audit employee records to make sure nothing is out of place and have asked you to produce a report of all employees. Return the employees first name and last name along with the city and state of the office that they work out of (if they have one). Include all employees and order them by their first name, then their last name."
      ]
    },
    {
      "cell_type": "code",
      "execution_count": 4,
      "metadata": {},
      "outputs": [
        {
          "name": "stdout",
          "output_type": "stream",
          "text": [
            "   firstName   lastName           city       state\n",
            "0       Andy     Fixter         Sydney            \n",
            "1    Anthony        Bow  San Francisco          CA\n",
            "2      Barry      Jones         London            \n",
            "3      Diane     Murphy  San Francisco          CA\n",
            "4   Foon Yue      Tseng            NYC          NY\n",
            "5     George     Vanauf            NYC          NY\n",
            "6     Gerard     Bondur          Paris            \n",
            "7     Gerard  Hernandez          Paris            \n",
            "8       Jeff   Firrelli  San Francisco          CA\n",
            "9      Julie   Firrelli         Boston          MA\n",
            "10     Larry       Bott         London            \n",
            "11    Leslie   Jennings  San Francisco          CA\n",
            "12    Leslie   Thompson  San Francisco          CA\n",
            "13      Loui     Bondur          Paris            \n",
            "14      Mami      Nishi          Tokyo  Chiyoda-Ku\n",
            "15    Martin     Gerard          Paris            \n",
            "16      Mary  Patterson  San Francisco          CA\n",
            "17    Pamela   Castillo          Paris            \n",
            "18     Peter      Marsh         Sydney            \n",
            "19     Steve  Patterson         Boston          MA\n",
            "20       Tom       King         Sydney            \n",
            "21   William  Patterson         Sydney            \n",
            "22   Yoshimi       Kato          Tokyo  Chiyoda-Ku\n"
          ]
        }
      ],
      "source": [
        "# CodeGrade step3\n",
        "# Replace None with your code\n",
        "df_employee = pd.read_sql(\"\"\"\n",
        "SELECT e.firstName, e.lastName,\n",
        "        o.city, o.state\n",
        "FROM employees AS e\n",
        "LEFT JOIN offices AS o\n",
        "    USING(officeCode)\n",
        "ORDER BY firstname ASC,  e.lastName ASC;                    \n",
        "\"\"\", conn)\n",
        "\n",
        "print(df_employee)"
      ]
    },
    {
      "cell_type": "markdown",
      "metadata": {
        "id": "VwT9eePzEl8I"
      },
      "source": [
        "### Step 4\n",
        "The customer management and sales rep team know that they have several 'customers' in the system that have not placed any orders. They want to reach out to these customers with updated product catalogs to try and get them to place initial orders. Return all of the customer's contact information (first name, last name, and phone number) as well as their sales rep's employee number for any customer that has not placed an order. Sort the results alphabetically based on the contact's last name\n",
        "\n",
        "There are several approaches you could take here, including a left join and filtering on null values or using a subquery to filter out customers who do have orders. In total there are 24 customers who have not placed an order."
      ]
    },
    {
      "cell_type": "code",
      "execution_count": 5,
      "metadata": {},
      "outputs": [
        {
          "name": "stdout",
          "output_type": "stream",
          "text": [
            "    contactLastName contactFirstName             phone salesRepEmployeeNumber\n",
            "0       Altagar,G M           Raanan  + 972 9 959 8555                       \n",
            "1          Andersen              Mel       030-0074555                       \n",
            "2             Anton           Carmen    +34 913 728555                       \n",
            "3            Camino       Alejandra      (91) 745 6555                       \n",
            "4            Cramer          Philip         0555-09555                       \n",
            "5             Feuer       Alexander        0342-555176                       \n",
            "6            Franco            Keith        2035557845                   1286\n",
            "7           Franken           Peter        089-0877555                       \n",
            "8          Harrison               Ed  +41 26 425 50 01                       \n",
            "9           Josephs            Karin       0251-555259                       \n",
            "10            Kloss           Horst        0372-555188                       \n",
            "11            Kuger           Armand   +27 21 550 3555                       \n",
            "12          McKenna        Patricia           2967 555                       \n",
            "13          Messner          Renate        069-0555984                       \n",
            "14             Moos           Hanna         0621-08555                       \n",
            "15           Müller            Rita        0711-555361                       \n",
            "16          Ottlieb            Sven        0241-039123                       \n",
            "17  Piestrzeniewicz         Zbyszek      (26) 642-7555                       \n",
            "18        Rodriguez            Lino       (1) 354-2555                       \n",
            "19         Schuyler          Bradley   +31 20 491 9555                       \n",
            "20          Semenov       Alexander    +7 812 293 0521                       \n",
            "21              Urs            Braun       0452-076555                   1702\n",
            "22           Walker           Brydey    +612 9411 1555                       \n",
            "23        de Castro          Isabel       (1) 356-5555                       \n"
          ]
        }
      ],
      "source": [
        "# CodeGrade step4\n",
        "# Replace None with your code\n",
        "df_contacts = pd.read_sql(\"\"\"\n",
        "SELECT c.contactLastName, c.contactFirstName, c.Phone, c.salesRepEmployeeNumber\n",
        "FROM customers AS c\n",
        "LEFT JOIN orders AS o\n",
        "    USING(customerNumber)\n",
        "WHERE o.orderNumber is Null\n",
        "ORDER BY c.contactLastName ASC;                       \n",
        "\"\"\", conn)\n",
        "\n",
        "print(df_contacts)"
      ]
    },
    {
      "cell_type": "markdown",
      "metadata": {},
      "source": [
        "## Part 3: Built-in Function"
      ]
    },
    {
      "cell_type": "markdown",
      "metadata": {
        "id": "YSiD-VGsE3tt"
      },
      "source": [
        "### Step 5\n",
        "\n",
        "The accounting team is auditing their figures and wants to make sure all customer payments are in alignment, they have asked you to produce a report of all the customer contacts (first and last names) along with details for each of the customers' payment amounts and date of payment. They have asked that these results be sorted in descending order by the payment amount.\n",
        "\n",
        "Hint: A member of their team mentioned that they are not sure the 'amount' column is being stored as the right datatype so keep this in mind when sorting."
      ]
    },
    {
      "cell_type": "code",
      "execution_count": 6,
      "metadata": {},
      "outputs": [
        {
          "name": "stdout",
          "output_type": "stream",
          "text": [
            "    contactLastName contactFirstName paymentDate     amount\n",
            "0            Freyre           Diego   2005-03-18  120166.58\n",
            "1            Freyre           Diego   2004-12-31  116208.40\n",
            "2            Nelson            Susan  2003-08-15  111654.40\n",
            "3         Natividad             Eric  2003-12-26  105743.00\n",
            "4            Nelson            Susan  2005-03-05  101244.59\n",
            "..              ...              ...         ...        ...\n",
            "268         Schmitt          Carine   2004-12-18    1676.14\n",
            "269        Cartrain         Pascale   2003-04-19    1627.56\n",
            "270      Bergulfsen           Jonas   2003-10-28    1491.38\n",
            "271        Cartrain         Pascale   2003-08-22    1128.20\n",
            "272       Shimamura            Akiko  2005-05-18     615.45\n",
            "\n",
            "[273 rows x 4 columns]\n"
          ]
        }
      ],
      "source": [
        "# CodeGrade step5\n",
        "# Replace None with your code\n",
        "df_payment = pd.read_sql(\"\"\"\n",
        "SELECT c.contactLastName, c.contactFirstName, \n",
        "    p.paymentDate, p.amount                   \n",
        "FROM customers AS c\n",
        "JOIN payments AS p\n",
        "    USING(customerNumber)\n",
        "ORDER BY CAST(p.amount AS REAL) DESC;                        \n",
        "\"\"\", conn)\n",
        "\n",
        "print(df_payment)"
      ]
    },
    {
      "cell_type": "markdown",
      "metadata": {},
      "source": [
        "## Part 4: Joining and Grouping"
      ]
    },
    {
      "cell_type": "markdown",
      "metadata": {},
      "source": [
        "### Step 6\n",
        "\n",
        "The sales rep team has noticed several key team members that stand out as having trustworthy business relations with their customers, reflected by high credit limits indicating more potential for orders. The team wants you to identify these 4 individuals. Return the employee number, first name, last name, and number of customers for employees whose customers have an average credit limit over 90k. Sort by number of customers from high to low."
      ]
    },
    {
      "cell_type": "code",
      "execution_count": 8,
      "metadata": {},
      "outputs": [
        {
          "name": "stdout",
          "output_type": "stream",
          "text": [
            "  employeeNumber firstName   lastName  avg_creditLimit  customer_count\n",
            "0           1501     Larry       Bott     91187.500000               8\n",
            "1           1370    Gerard  Hernandez     91785.714286               7\n",
            "2           1165    Leslie   Jennings    100433.333333               6\n",
            "3           1612     Peter      Marsh     92080.000000               5\n"
          ]
        }
      ],
      "source": [
        "# CodeGrade step6\n",
        "# Replace None with your code\n",
        "\n",
        "df_credit = pd.read_sql(\"\"\"\n",
        "SELECT\n",
        "    e.employeeNumber, e.firstName, e.lastName,\n",
        "    AVG(c.creditLimit) AS avg_creditLimit,\n",
        "    COUNT(c.customerNUmber) AS customer_count\n",
        "FROM employees AS e\n",
        "JOIN customers AS c\n",
        "    ON c.salesRepEmployeeNumber = e.employeeNumber\n",
        "GROUP BY e.employeeNumber\n",
        "HAVING avg_creditLimit > 90000\n",
        "ORDER BY customer_count DESC\n",
        "LIMIT 4\n",
        "\"\"\", conn)\n",
        "\n",
        "print(df_credit)"
      ]
    },
    {
      "cell_type": "markdown",
      "metadata": {
        "id": "oBc9ymJOFB7k"
      },
      "source": [
        "### Step 7\n",
        "\n",
        "The product team is looking to create new model kits and wants to know which current products are selling the most in order to get an idea of what is popular. Return the product name and count the number of orders for each product as a column named 'numorders'. Also return a new column, 'totalunits', that sums up the total quantity of product sold (use the quantityOrdered column). Sort the results by the totalunits column, highest to lowest, to showcase the top selling products."
      ]
    },
    {
      "cell_type": "code",
      "execution_count": 9,
      "metadata": {},
      "outputs": [
        {
          "name": "stdout",
          "output_type": "stream",
          "text": [
            "                                 productName  numorders  totalunits\n",
            "0                1992 Ferrari 360 Spider red         53        1808\n",
            "1                       1937 Lincoln Berline         28        1111\n",
            "2                  American Airlines: MD-11S         28        1085\n",
            "3    1941 Chevrolet Special Deluxe Cabriolet         28        1076\n",
            "4               1930 Buick Marquette Phaeton         28        1074\n",
            "..                                       ...        ...         ...\n",
            "104             1999 Indy 500 Monte Carlo SS         25         855\n",
            "105                       1911 Ford Town Car         25         832\n",
            "106         1936 Mercedes Benz 500k Roadster         25         824\n",
            "107               1970 Chevy Chevelle SS 454         25         803\n",
            "108                    1957 Ford Thunderbird         24         767\n",
            "\n",
            "[109 rows x 3 columns]\n"
          ]
        }
      ],
      "source": [
        "# CodeGrade step7\n",
        "# Replace None with your code\n",
        "df_product_sold = pd.read_sql(\"\"\"\n",
        "SELECT p.productName, \n",
        "        COUNT(DISTINCT od.orderNumber) AS numorders,\n",
        "        SUM(od.quantityOrdered) AS totalunits                              \n",
        "FROM products AS p\n",
        "JOIN orderdetails AS od\n",
        "    USING(productCode)\n",
        "GROUP by productName\n",
        "ORDER by totalunits DESC                            \n",
        "\"\"\", conn)\n",
        "\n",
        "print(df_product_sold)"
      ]
    },
    {
      "cell_type": "markdown",
      "metadata": {},
      "source": [
        "## Part 5: Multiple Joins"
      ]
    },
    {
      "cell_type": "markdown",
      "metadata": {
        "id": "rC9zNmRgFeIu"
      },
      "source": [
        "### Step 8\n",
        "\n",
        "As a follow-up to the above question, the product team also wants to know how many different customers ordered each product to get an idea of market reach. Return the product name, code, and the total number of customers who have ordered each product, aliased as 'numpurchasers'. Sort the results by the highest  number of purchasers.\n",
        "\n",
        "Hint: You might need to join more than 2 tables. Use DISTINCT to return unique/different values."
      ]
    },
    {
      "cell_type": "code",
      "execution_count": 10,
      "metadata": {},
      "outputs": [
        {
          "name": "stdout",
          "output_type": "stream",
          "text": [
            "                             productName productCode  numpurchasers\n",
            "0            1992 Ferrari 360 Spider red    S18_3232             40\n",
            "1               1952 Alpine Renault 1300    S10_1949             27\n",
            "2                    1972 Alfa Romeo GTA    S10_4757             27\n",
            "3                     1934 Ford V8 Coupe    S18_2957             27\n",
            "4                       Boeing X-32A JSF    S72_1253             27\n",
            "..                                   ...         ...            ...\n",
            "104  1958 Chevy Corvette Limited Edition    S24_2840             19\n",
            "105                   1949 Jaguar XK 120    S24_2766             18\n",
            "106                    1952 Citroen-15CV    S24_2887             18\n",
            "107            1969 Chevrolet Camaro Z28    S24_3191             18\n",
            "108                  2002 Chevy Corvette    S24_3432             18\n",
            "\n",
            "[109 rows x 3 columns]\n"
          ]
        }
      ],
      "source": [
        "# CodeGrade step8\n",
        "# Replace None with your code\n",
        "df_total_customers = pd.read_sql(\"\"\"\n",
        "SELECT p.productName, p.productCode, \n",
        "        COUNT(DISTINCT o.customerNumber) AS numpurchasers\n",
        "FROM products AS p\n",
        "JOIN orderdetails AS od\n",
        "    USING(productCode)\n",
        "JOIN orders AS o\n",
        "    USING(orderNumber)\n",
        "GROUP BY p.productCode, p.productName\n",
        "ORDER BY numpurchasers DESC;\n",
        "\"\"\", conn)\n",
        "\n",
        "print(df_total_customers)"
      ]
    },
    {
      "cell_type": "markdown",
      "metadata": {},
      "source": [
        "### Step 9\n",
        "\n",
        "The custom relations team is worried they are not staffing locations properly to account for customer volume. They want to know how many customers there are per office. Return the count as a column named 'n_customers'. Also return the office code and city."
      ]
    },
    {
      "cell_type": "code",
      "execution_count": 11,
      "metadata": {},
      "outputs": [
        {
          "name": "stdout",
          "output_type": "stream",
          "text": [
            "  officeCode           city  n_customers\n",
            "0          4          Paris           29\n",
            "1          7         London           17\n",
            "2          3            NYC           15\n",
            "3          1  San Francisco           12\n",
            "4          2         Boston           12\n",
            "5          6         Sydney           10\n",
            "6          5          Tokyo            5\n"
          ]
        }
      ],
      "source": [
        "# CodeGrade step9\n",
        "# Replace None with your code\n",
        "df_customers = pd.read_sql(\"\"\"\n",
        "SELECT o.officeCode, o.city, COUNT(c.customerNumber) AS n_customers\n",
        "FROM customers AS c\n",
        "JOIN employees AS e\n",
        "    ON c.salesRepEmployeeNumber = e.employeeNumber\n",
        "JOIN offices AS o\n",
        "    USING(officeCode)\n",
        "GROUP BY o.officeCode, o.city\n",
        "ORDER BY n_customers DESC;                 \n",
        "\"\"\", conn)\n",
        "\n",
        "print(df_customers)"
      ]
    },
    {
      "cell_type": "markdown",
      "metadata": {},
      "source": [
        "## Part 6: Subquery"
      ]
    },
    {
      "cell_type": "markdown",
      "metadata": {
        "id": "If3Bste-Fulo"
      },
      "source": [
        "### Step 10\n",
        "\n",
        "Having looked at the results from above, the product team is curious to dig into the underperforming products. They want to ask members of the team who have sold these products about what kind of messaging was successful in getting a customer to buy these specific products. Using a subquery or common table expression (CTE), select the employee number, first name, last name, city of the office, and the office code for employees who sold products that have been ordered by fewer than 20 customers.\n",
        "\n",
        "Hint: Start with the subquery, find all the products that have been ordered by 19 or less customers, consider adapting one of your previous queries."
      ]
    },
    {
      "cell_type": "code",
      "execution_count": 17,
      "metadata": {},
      "outputs": [
        {
          "name": "stdout",
          "output_type": "stream",
          "text": [
            "   employeeNumber firstName   lastName           city officeCode\n",
            "0            1165    Leslie   Jennings  San Francisco          1\n",
            "1            1166    Leslie   Thompson  San Francisco          1\n",
            "2            1188     Julie   Firrelli         Boston          2\n",
            "3            1216     Steve  Patterson         Boston          2\n",
            "4            1286  Foon Yue      Tseng            NYC          3\n",
            "5            1323    George     Vanauf            NYC          3\n",
            "6            1337      Loui     Bondur          Paris          4\n",
            "7            1370    Gerard  Hernandez          Paris          4\n",
            "8            1401    Pamela   Castillo          Paris          4\n",
            "9            1501     Larry       Bott         London          7\n",
            "10           1504     Barry      Jones         London          7\n",
            "11           1611      Andy     Fixter         Sydney          6\n",
            "12           1612     Peter      Marsh         Sydney          6\n",
            "13           1621      Mami      Nishi          Tokyo          5\n",
            "14           1702    Martin     Gerard          Paris          4\n"
          ]
        }
      ],
      "source": [
        "# CodeGrade step10\n",
        "# Replace None with your code\n",
        "df_under_20 = df_under_20 = pd.read_sql(\"\"\"\n",
        "WITH underperform_product AS (\n",
        "    SELECT productCode \n",
        "    FROM orderdetails\n",
        "    JOIN orders ON orderdetails.orderNumber = orders.orderNumber\n",
        "    GROUP BY orderdetails.productCode\n",
        "    HAVING COUNT(DISTINCT orders.customerNumber) <= 19                                   \n",
        ")\n",
        "                                    \n",
        "SELECT \n",
        "    employees.employeeNumber,\n",
        "    employees.firstName,\n",
        "    employees.lastName,\n",
        "    offices.city,                                                                                                           \n",
        "    offices.officeCode\n",
        "FROM employees\n",
        "JOIN offices ON offices.officeCode = employees.officeCode\n",
        "JOIN customers ON customers.salesRepEmployeeNumber = employees.employeeNumber\n",
        "JOIN orders ON orders.customerNumber = customers.customerNumber\n",
        "JOIN orderdetails ON orderdetails.orderNumber = orders.orderNumber\n",
        "WHERE orderdetails.productCode IN (\n",
        "    SELECT productCode FROM underperform_product\n",
        ")\n",
        "GROUP BY employees.employeeNumber\n",
        "ORDER BY employees.employeeNumber;                                                                                                                                                                                                 \n",
        "\"\"\", conn)\n",
        "\n",
        "print(df_under_20)"
      ]
    },
    {
      "cell_type": "markdown",
      "metadata": {
        "id": "b0YHiqxXGa-5"
      },
      "source": [
        "### Close the connection"
      ]
    },
    {
      "cell_type": "code",
      "execution_count": 18,
      "metadata": {
        "id": "oEcx2cZ2Gc21"
      },
      "outputs": [],
      "source": [
        "# Run this cell without changes\n",
        "\n",
        "conn.close()"
      ]
    }
  ],
  "metadata": {
    "colab": {
      "provenance": []
    },
    "kernelspec": {
      "display_name": "Python 3",
      "name": "python3"
    },
    "language_info": {
      "codemirror_mode": {
        "name": "ipython",
        "version": 3
      },
      "file_extension": ".py",
      "mimetype": "text/x-python",
      "name": "python",
      "nbconvert_exporter": "python",
      "pygments_lexer": "ipython3",
      "version": "3.11.6"
    }
  },
  "nbformat": 4,
  "nbformat_minor": 0
}
